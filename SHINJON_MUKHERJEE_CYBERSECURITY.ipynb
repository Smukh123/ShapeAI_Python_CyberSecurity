{
 "cells": [
  {
   "cell_type": "code",
   "execution_count": 2,
   "metadata": {
    "colab": {
     "base_uri": "https://localhost:8080/"
    },
    "id": "JnqSLzjnukJD",
    "outputId": "a48e61ca-51c9-4096-c63f-eecced775c41"
   },
   "outputs": [
    {
     "name": "stdout",
     "output_type": "stream",
     "text": [
      "Enter the city name: ASANSOL\n",
      "-------------------------------------------------------------\n",
      "Weather Stats for - ASANSOL  || 22 Jun 2021 | 11:34:03 AM\n",
      "-------------------------------------------------------------\n",
      "Current temperature is: 29.83 deg C\n",
      "Current weather desc  : overcast clouds\n",
      "Current Humidity      : 64 %\n",
      "Current wind speed    : 0.89 kmph\n"
     ]
    }
   ],
   "source": [
    "#Program to fetch weather info of a city with a 3rd party API\n",
    "#and recording the info in a text file\n",
    "import requests\n",
    "\n",
    "#import os\n",
    "from datetime import datetime\n",
    "\n",
    "api_key = 'c3510d445599d7fb3e40d8f06d9ebc88'\n",
    "location = input(\"Enter the city name: \")\n",
    "\n",
    "complete_api_link = \"https://api.openweathermap.org/data/2.5/weather?q=\"+location+\"&appid=\"+api_key\n",
    "api_link = requests.get(complete_api_link)\n",
    "api_data = api_link.json()\n",
    "\n",
    "#create variables to store and display data\n",
    "temp_city = ((api_data['main']['temp']) - 273.15)\n",
    "weather_desc = api_data['weather'][0]['description']\n",
    "hmdt = api_data['main']['humidity']\n",
    "wind_spd = api_data['wind']['speed']\n",
    "date_time = datetime.now().strftime(\"%d %b %Y | %I:%M:%S %p\")\n",
    "\n",
    "\n",
    "print (\"-------------------------------------------------------------\")\n",
    "print (\"Weather Stats for - {}  || {}\".format(location.upper(), date_time))\n",
    "print (\"-------------------------------------------------------------\")\n",
    "print (\"Current temperature is: {:.2f} deg C\".format(temp_city))\n",
    "print (\"Current weather desc  :\",weather_desc)\n",
    "print (\"Current Humidity      :\",hmdt, '%')\n",
    "print (\"Current wind speed    :\",wind_spd ,'kmph')\n",
    "\n",
    "\n",
    "#creating the text file\n",
    "fh=open('weather_text.txt','w+')#fh is File handler variable\n",
    "\n",
    "# writing in the text file\n",
    "fh.write(\"Weather Stats for - {}  || {}\".format(location.upper(), date_time))\n",
    "fh.write(\"\\n-------------------------------------------------------------\")\n",
    "fh.write(\"\\nCurrent temperature is: {:.2f} deg C\".format(temp_city))\n",
    "fh.write(\"\\nCurrent weather desc  : {}\".format(weather_desc))\n",
    "fh.write(\"\\nCurrent Humidity      : {} %\".format(hmdt))\n",
    "fh.write(\"\\nCurrent wind speed    : {}kmph\".format(wind_spd))\n",
    "\n",
    "fh.close()\n",
    "\n"
   ]
  },
  {
   "cell_type": "code",
   "execution_count": null,
   "metadata": {},
   "outputs": [],
   "source": []
  }
 ],
 "metadata": {
  "colab": {
   "name": "Harsh Yadav CySec.ipynb",
   "provenance": []
  },
  "kernelspec": {
   "display_name": "Python 3",
   "language": "python",
   "name": "python3"
  },
  "language_info": {
   "codemirror_mode": {
    "name": "ipython",
    "version": 3
   },
   "file_extension": ".py",
   "mimetype": "text/x-python",
   "name": "python",
   "nbconvert_exporter": "python",
   "pygments_lexer": "ipython3",
   "version": "3.8.5"
  }
 },
 "nbformat": 4,
 "nbformat_minor": 1
}
